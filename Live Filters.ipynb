{
 "cells": [
  {
   "cell_type": "code",
   "execution_count": 1,
   "metadata": {},
   "outputs": [],
   "source": [
    "import numpy as np\n",
    "import cv2"
   ]
  },
  {
   "cell_type": "code",
   "execution_count": 2,
   "metadata": {},
   "outputs": [],
   "source": [
    "cap = cv2.VideoCapture(0)\n",
    "face_cascade = cv2.CascadeClassifier('./Train/third-party/frontalEyes35x16.xml')\n",
    "nose_cascade = cv2.CascadeClassifier('./Train/third-party/Nose18x15.xml')"
   ]
  },
  {
   "cell_type": "code",
   "execution_count": 3,
   "metadata": {},
   "outputs": [],
   "source": [
    "specs = cv2.imread('./Train/glasses.png',-1)\n",
    "mustache = cv2.imread('./Train/mustache.png',-1)"
   ]
  },
  {
   "cell_type": "code",
   "execution_count": 4,
   "metadata": {},
   "outputs": [],
   "source": [
    "\n",
    "while True:\n",
    "    ret,Frame = cap.read()\n",
    "    \n",
    "    if ret == False:\n",
    "        continue\n",
    "    gray = cv2.cvtColor(Frame,cv2.COLOR_BGR2GRAY)\n",
    "    \n",
    "    face_detect = face_cascade.detectMultiScale(gray,1.3,5)\n",
    "    if len(face_detect)==0:\n",
    "        continue\n",
    "    \n",
    "    for x,y,w,h in face_detect:\n",
    "        cv2.rectangle(gray,(x,y),(x+w,y+h),(255,0,0),2)\n",
    "        \n",
    "    Frame = cv2.cvtColor(Frame,cv2.COLOR_BGR2BGRA)\n",
    "    specs = cv2.resize(specs,(w,h))\n",
    "    \n",
    "    r,c,cn = specs.shape\n",
    "    \n",
    "    for i in range(r):\n",
    "        for j in range(c):\n",
    "            if specs[i,j,3] != 0:\n",
    "                Frame[y+i,x+j] = specs[i,j]\n",
    "    \n",
    "    '''\n",
    "    nose_detect = nose_cascade.detectMultiScale(gray,1.3,5)\n",
    "    if len(nose_detect)==0:\n",
    "        continue\n",
    "    \n",
    "    for x,y,w,h in nose_detect:\n",
    "        cv2.rectangle(gray,(x,y),(x+w,y+h),(255,0,0),2)\n",
    "        \n",
    "    #Frame = cv2.cvtColor(Frame,cv2.COLOR_BGR2BGRA)\n",
    "    mustache = cv2.resize(mustache,(w,h))\n",
    "    \n",
    "    r,c,cn = mustache.shape\n",
    "    y += int(h/2)\n",
    "    for i in range(r):\n",
    "        for j in range(c):\n",
    "            if mustache[i,j,3] != 0:\n",
    "                Frame[y+i,x+j] = mustache[i,j]\n",
    "    '''\n",
    "    cv2.imshow(\"Cam\",Frame)\n",
    "    \n",
    "    key = cv2.waitKey(1) & 0xFF\n",
    "    if key == ord('q'):\n",
    "        break\n"
   ]
  },
  {
   "cell_type": "code",
   "execution_count": null,
   "metadata": {},
   "outputs": [],
   "source": []
  },
  {
   "cell_type": "code",
   "execution_count": 5,
   "metadata": {},
   "outputs": [],
   "source": [
    "cap.release()\n",
    "cv2.destroyAllWindows()"
   ]
  },
  {
   "cell_type": "code",
   "execution_count": null,
   "metadata": {},
   "outputs": [],
   "source": []
  }
 ],
 "metadata": {
  "kernelspec": {
   "display_name": "Python 3",
   "language": "python",
   "name": "python3"
  },
  "language_info": {
   "codemirror_mode": {
    "name": "ipython",
    "version": 3
   },
   "file_extension": ".py",
   "mimetype": "text/x-python",
   "name": "python",
   "nbconvert_exporter": "python",
   "pygments_lexer": "ipython3",
   "version": "3.7.4"
  }
 },
 "nbformat": 4,
 "nbformat_minor": 2
}
